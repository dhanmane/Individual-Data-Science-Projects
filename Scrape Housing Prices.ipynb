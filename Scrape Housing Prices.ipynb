{
 "cells": [
  {
   "cell_type": "code",
   "execution_count": 453,
   "metadata": {
    "collapsed": true
   },
   "outputs": [],
   "source": [
    "import bs4\n",
    "from urllib.request import urlopen as uReq\n",
    "from bs4 import BeautifulSoup as soup"
   ]
  },
  {
   "cell_type": "code",
   "execution_count": 454,
   "metadata": {
    "collapsed": true
   },
   "outputs": [],
   "source": [
    "my_url= \"https://www.realestate.com/san-francisco-ca--homes?b=38.118268_-122.048882_37.517266_-122.808312&view=list&z=10&p=29\""
   ]
  },
  {
   "cell_type": "code",
   "execution_count": 455,
   "metadata": {
    "collapsed": true
   },
   "outputs": [],
   "source": [
    "uClient= uReq(my_url)"
   ]
  },
  {
   "cell_type": "code",
   "execution_count": 456,
   "metadata": {},
   "outputs": [],
   "source": [
    "Page_html = uClient.read()"
   ]
  },
  {
   "cell_type": "code",
   "execution_count": 457,
   "metadata": {
    "collapsed": true
   },
   "outputs": [],
   "source": [
    "uClient.close()"
   ]
  },
  {
   "cell_type": "code",
   "execution_count": 458,
   "metadata": {},
   "outputs": [],
   "source": [
    "#HTML parsing\n",
    "page_soup= soup(Page_html, \"html.parser\")"
   ]
  },
  {
   "cell_type": "code",
   "execution_count": 459,
   "metadata": {
    "collapsed": true
   },
   "outputs": [],
   "source": [
    "Housing_details = page_soup.findAll(\"div\", {\"class\": \"PropertyTableData__row\"})"
   ]
  },
  {
   "cell_type": "code",
   "execution_count": 460,
   "metadata": {
    "scrolled": true
   },
   "outputs": [
    {
     "data": {
      "text/plain": [
       "32"
      ]
     },
     "execution_count": 460,
     "metadata": {},
     "output_type": "execute_result"
    }
   ],
   "source": [
    "filename= (\"SF_HSG29.csv\")\n",
    "f = open(filename, \"w\")\n",
    "headers = \"Address, Price, bed, bath, Area\\n\"\n",
    "f.write(headers)"
   ]
  },
  {
   "cell_type": "code",
   "execution_count": 461,
   "metadata": {
    "scrolled": true
   },
   "outputs": [
    {
     "name": "stdout",
     "output_type": "stream",
     "text": [
      "Address:Address\n",
      "Sale Price Price \n",
      "#Bedrooms:Br\n",
      "#Bathrooms:Ba\n",
      "Area Sqft:SQFT\n",
      "Address:5256 3rd St \n",
      "Sale Price $899k\n",
      "#Bedrooms:6\n",
      "#Bathrooms:2\n",
      "Area Sqft:0\n",
      "Address:690 Market St Unit 1702\n",
      "Sale Price $1.60m\n",
      "#Bedrooms:2\n",
      "#Bathrooms:2.5\n",
      "Area Sqft:1,273\n",
      "Address:11 College Ter \n",
      "Sale Price $859k\n",
      "#Bedrooms:3\n",
      "#Bathrooms:1\n",
      "Area Sqft:1,655\n",
      "Address:2566 Pine St \n",
      "Sale Price $4.59m\n",
      "#Bedrooms:5\n",
      "#Bathrooms:5\n",
      "Area Sqft:3,740\n",
      "Address:3036 Baker St \n",
      "Sale Price $1.40m\n",
      "#Bedrooms:2\n",
      "#Bathrooms:2\n",
      "Area Sqft:1,391\n",
      "Address:2738 Judah St \n",
      "Sale Price $1.50m\n",
      "#Bedrooms:\n",
      "#Bathrooms:\n",
      "Area Sqft:2,960\n",
      "Address:81 Ervine St \n",
      "Sale Price $495k\n",
      "#Bedrooms:\n",
      "#Bathrooms:\n",
      "Area Sqft:0\n",
      "Address:1450 Post St Unit 716\n",
      "Sale Price $595k\n",
      "#Bedrooms:2\n",
      "#Bathrooms:2\n",
      "Area Sqft:1,094\n",
      "Address:1219 Lane St \n",
      "Sale Price $799k\n",
      "#Bedrooms:4\n",
      "#Bathrooms:1\n",
      "Area Sqft:1,188\n",
      "Address:1515 V \n",
      "Sale Price $25.00m\n",
      "#Bedrooms:\n",
      "#Bathrooms:\n",
      "Area Sqft:0\n",
      "Address:2557 Filbert St \n",
      "Sale Price $8.90m\n",
      "#Bedrooms:6\n",
      "#Bathrooms:4\n",
      "Area Sqft:6,085\n",
      "Address:301 Mission St Unit 33E\n",
      "Sale Price $2.40m\n",
      "#Bedrooms:2\n",
      "#Bathrooms:2\n",
      "Area Sqft:1,714\n",
      "Address:300 Beale St Unit 301\n",
      "Sale Price $1.70m\n",
      "#Bedrooms:2\n",
      "#Bathrooms:2\n",
      "Area Sqft:1,798\n",
      "Address:898 Francisco St \n",
      "Sale Price $10.95m\n",
      "#Bedrooms:6\n",
      "#Bathrooms:7\n",
      "Area Sqft:6,305\n",
      "Address:461 2nd St Unit T651\n",
      "Sale Price $6.25m\n",
      "#Bedrooms:3\n",
      "#Bathrooms:2\n",
      "Area Sqft:3,000\n",
      "Address:1070 Green St \n",
      "Sale Price $3.70m\n",
      "#Bedrooms:2\n",
      "#Bathrooms:\n",
      "Area Sqft:1,800\n",
      "Address:181 Ofarrell St Unit 506\n",
      "Sale Price $1.23m\n",
      "#Bedrooms:1\n",
      "#Bathrooms:1.5\n",
      "Area Sqft:1,379\n"
     ]
    }
   ],
   "source": [
    "for container in Housing_details:\n",
    "    Add_container= container.findAll(\"div\",{\"class\": \"PropertyTableData__item PropertyTableData__address\"})\n",
    "    Address = Add_container[0].text\n",
    "    Price_container= container.findAll(\"div\",{\"class\": \"PropertyTableData__item PropertyTableData__price\"})\n",
    "    Price = Price_container[0].text\n",
    "    beds_container= container.findAll(\"div\",{\"class\": \"PropertyTableData__item PropertyTableData__bedrooms\"})\n",
    "    bed = beds_container[0].text\n",
    "    bath_container= container.findAll(\"div\",{\"class\": \"PropertyTableData__item PropertyTableData__bathrooms\"})\n",
    "    bath = bath_container[0].text\n",
    "    Area_container= container.findAll(\"div\",{\"class\": \"PropertyTableData__item PropertyTableData__sqft\"})\n",
    "    Area = Area_container[0].text\n",
    "    print(\"Address:\" + Address)\n",
    "    print(\"Sale Price \"+ Price)\n",
    "    print(\"#Bedrooms:\" + bed)\n",
    "    print(\"#Bathrooms:\" + bath)\n",
    "    print(\"Area Sqft:\" + Area)\n",
    "    \n",
    "    f.write(Address + \",\" + Price.replace(\",\",\"\") + \",\"  + bed + \",\" + bath + \",\" + Area.replace(\",\",\"\") + \"\\n\")\n",
    "f.close()\n",
    "    "
   ]
  },
  {
   "cell_type": "code",
   "execution_count": null,
   "metadata": {
    "collapsed": true
   },
   "outputs": [],
   "source": []
  },
  {
   "cell_type": "code",
   "execution_count": null,
   "metadata": {
    "collapsed": true
   },
   "outputs": [],
   "source": []
  }
 ],
 "metadata": {
  "kernelspec": {
   "display_name": "Python 3",
   "language": "python",
   "name": "python3"
  },
  "language_info": {
   "codemirror_mode": {
    "name": "ipython",
    "version": 3
   },
   "file_extension": ".py",
   "mimetype": "text/x-python",
   "name": "python",
   "nbconvert_exporter": "python",
   "pygments_lexer": "ipython3",
   "version": "3.6.3"
  }
 },
 "nbformat": 4,
 "nbformat_minor": 2
}
